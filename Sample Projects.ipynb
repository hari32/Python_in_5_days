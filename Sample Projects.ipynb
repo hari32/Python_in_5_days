{
 "cells": [
  {
   "cell_type": "markdown",
   "metadata": {},
   "source": [
    "#### problem 1: Check the validity of a password\n",
    "\n",
    "write a Python program to check the validity of a password (input from users).\n",
    "* Validation :\n",
    "\n",
    "* At least 1 letter between [a-z] and 1 letter between [A-Z].\n",
    "* At least 1 number between [0-9].\n",
    "* At least 1 character from [#@].\n",
    "* Minimum length 6 characters.\n",
    "* Maximum length 16 characters."
   ]
  },
  {
   "cell_type": "code",
   "execution_count": 3,
   "metadata": {},
   "outputs": [
    {
     "name": "stdout",
     "output_type": "stream",
     "text": [
      "Input your passworderF4#\n",
      "Not a Valid Password\n"
     ]
    }
   ],
   "source": [
    "import re\n",
    "\n",
    "p= input(\"Input your password:\")\n",
    "x = True\n",
    "while True:  \n",
    "    if (len(p)<6 or len(p)>12):\n",
    "        break\n",
    "    elif not re.search(\"[a-z]\",p):\n",
    "        break\n",
    "    elif not re.search(\"[0-9]\",p):\n",
    "        break\n",
    "    elif not re.search(\"[A-Z]\",p):\n",
    "        break\n",
    "    elif not re.search(\"[$#@]\",p):\n",
    "        break\n",
    "    elif re.search(\"\\s\",p):\n",
    "        break\n",
    "    else:\n",
    "        print(\"Valid Password\")\n",
    "        x=False\n",
    "        break\n",
    "\n",
    "if x:\n",
    "    print(\"Not a Valid Password\")"
   ]
  },
  {
   "cell_type": "markdown",
   "metadata": {},
   "source": [
    "#### Problem2: calculate the uppercase and lowercase character in sentence"
   ]
  },
  {
   "cell_type": "code",
   "execution_count": 5,
   "metadata": {},
   "outputs": [
    {
     "name": "stdout",
     "output_type": "stream",
     "text": [
      "Enter the sentence:How r u\n",
      "1\n",
      "4\n"
     ]
    }
   ],
   "source": [
    "word = input(\"Enter the sentence:\")\n",
    "upper = []\n",
    "lower = []\n",
    "for i in word:\n",
    "    if i.isupper():\n",
    "        upper.append(i)\n",
    "        \n",
    "    elif i.islower():\n",
    "        lower.append(i)\n",
    "        \n",
    "print(len(upper))\n",
    "print(len(lower))"
   ]
  },
  {
   "cell_type": "code",
   "execution_count": null,
   "metadata": {},
   "outputs": [],
   "source": []
  }
 ],
 "metadata": {
  "kernelspec": {
   "display_name": "Python 3",
   "language": "python",
   "name": "python3"
  },
  "language_info": {
   "codemirror_mode": {
    "name": "ipython",
    "version": 3
   },
   "file_extension": ".py",
   "mimetype": "text/x-python",
   "name": "python",
   "nbconvert_exporter": "python",
   "pygments_lexer": "ipython3",
   "version": "3.7.4"
  }
 },
 "nbformat": 4,
 "nbformat_minor": 2
}
