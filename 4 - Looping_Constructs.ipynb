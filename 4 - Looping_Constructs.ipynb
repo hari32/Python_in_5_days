{
 "cells": [
  {
   "cell_type": "markdown",
   "metadata": {
    "colab_type": "text",
    "id": "PPB-RGM4cx-b"
   },
   "source": [
    "---\n",
    "---\n",
    "\n",
    "<center><h1>  Looping Constructs: </h1></center>\n",
    "\n",
    "---"
   ]
  },
  {
   "cell_type": "markdown",
   "metadata": {
    "colab_type": "text",
    "id": "mXwSALCUcx-f"
   },
   "source": [
    "---\n",
    "\n",
    "###  FOR LOOP AND RANGE FUNCTION\n",
    "\n",
    "- We use for loop when we want to run a block of code certain number of times.\n",
    " \n",
    "---\n",
    "\n",
    "- When we pass only one argument (considered as **`END_POINT`**) in the range function. The loop starts with **`0`** and runs till **`END_POINT - 1.`**\n"
   ]
  },
  {
   "cell_type": "markdown",
   "metadata": {},
   "source": [
    "# for Loops\n",
    "\n",
    "A <code>for</code> loop acts as an iterator in Python; it goes through items that are in a *sequence* or any other iterable item. Objects that we've learned about that we can iterate over include strings, lists, tuples, and even built-in iterables for dictionaries, such as keys or values.\n",
    "\n",
    "We've already seen the <code>for</code> statement a little bit in past lectures but now let's formalize our understanding.\n",
    "\n",
    "Here's the general format for a <code>for</code> loop in Python:\n",
    "\n",
    "    for item in object:\n",
    "        statements to do stuff"
   ]
  },
  {
   "cell_type": "markdown",
   "metadata": {},
   "source": [
    "The variable name used for the item is completely up to the coder, so use your best judgment for choosing a name that makes sense and you will be able to understand when revisiting your code. This item name can then be referenced inside your loop, for example if you wanted to use <code>if</code> statements to perform checks.\n",
    "\n",
    "Let's go ahead and work through several example of <code>for</code> loops using a variety of data object types. We'll start simple and build more complexity later on."
   ]
  },
  {
   "cell_type": "code",
   "execution_count": null,
   "metadata": {
    "colab": {},
    "colab_type": "code",
    "id": "ZPCew3lJcx-i",
    "outputId": "abec7632-8d96-4c4d-ede8-b54a0c12317a"
   },
   "outputs": [],
   "source": [
    "for number in range(1,4):\n",
    "    print(number)"
   ]
  },
  {
   "cell_type": "markdown",
   "metadata": {
    "colab_type": "text",
    "id": "ly7TxfIRcx-o"
   },
   "source": [
    "---\n",
    "* When we pass two arguments (first one considered as **`START_POINT`** and second one as **`END_POINT`**). The loop start with **`START_POINT`** and runs till **`END_POINT -1`**."
   ]
  },
  {
   "cell_type": "code",
   "execution_count": null,
   "metadata": {
    "colab": {},
    "colab_type": "code",
    "id": "rBK12K0Wcx-p",
    "outputId": "e42022dd-f031-45aa-a115-c9b740394c62"
   },
   "outputs": [],
   "source": [
    "for number in range(1, 5):\n",
    "    print(number)"
   ]
  },
  {
   "cell_type": "markdown",
   "metadata": {
    "colab_type": "text",
    "id": "eofvSy29cx-v"
   },
   "source": [
    "---\n",
    "\n",
    "* When we pass three arguments (first one considered as **`START_POINT`**, second one as **`END_POINT`** and the last one is **`STEP`**). \n",
    "\n",
    "---"
   ]
  },
  {
   "cell_type": "code",
   "execution_count": null,
   "metadata": {
    "colab": {},
    "colab_type": "code",
    "id": "mk3V8nAzcx-w",
    "outputId": "c86fd2a9-0f32-4e5e-d6b8-5ba1ba244520"
   },
   "outputs": [],
   "source": [
    "for number in range(1, 10, 4): #(strat value,end value,step value=1)\n",
    "    print(number, end= ' ')"
   ]
  },
  {
   "cell_type": "markdown",
   "metadata": {
    "colab_type": "text",
    "id": "wQcfbZs2cx-2"
   },
   "source": [
    "---\n",
    "\n",
    "* Iterate a **`String`** using FOR LOOP\n",
    "\n",
    "---"
   ]
  },
  {
   "cell_type": "code",
   "execution_count": null,
   "metadata": {
    "colab": {},
    "colab_type": "code",
    "id": "DDZ7Y5bycx-3",
    "outputId": "26c5f87f-f28c-42a6-cd01-6f24eb085d0c"
   },
   "outputs": [],
   "source": [
    "for character in \"hariprasanth k\":\n",
    "    print(character)"
   ]
  },
  {
   "cell_type": "markdown",
   "metadata": {
    "colab_type": "text",
    "id": "DJP3WpLGcx_E"
   },
   "source": [
    "---\n",
    "\n",
    "###  **`NESTED FOR LOOPS`**\n",
    "\n",
    "- A nested loop is a loop within a loop.\n",
    "- For each step in the outer loop, the inner loop exectues completely. See the below example\n",
    "\n",
    "---"
   ]
  },
  {
   "cell_type": "code",
   "execution_count": null,
   "metadata": {
    "colab": {},
    "colab_type": "code",
    "id": "VWiztlvTcx_G",
    "outputId": "559e7332-7f55-419c-f57d-ca1b8ea70ce9"
   },
   "outputs": [],
   "source": [
    "# define the range of outer loop\n",
    "for outer_loop_number in range(1, 3):#1 2\n",
    "    \n",
    "    # define the inner loop\n",
    "    for inner_loop_character in \"ABC\": #A B c\n",
    "        \n",
    "        print(outer_loop_number, inner_loop_character)"
   ]
  },
  {
   "cell_type": "markdown",
   "metadata": {},
   "source": [
    "***problem statement Write a Python program to construct the following pattern, using a nested for loop***\n",
    "    *  *  *  *  *\n",
    "      *  *  *  *\n",
    "        *  *  *\n",
    "          *  *\n",
    "            *\n",
    "                                   "
   ]
  },
  {
   "cell_type": "markdown",
   "metadata": {
    "colab_type": "text",
    "id": "AaFBHw2Gcx_N"
   },
   "source": [
    "---\n",
    "---\n",
    "\n",
    "##  WHILE LOOP\n",
    "\n",
    "* Another way to execute a block of code over and over again is using a while statement. \n",
    "* The code in a while clause will be executed as long as the while statement’s condition is True.\n",
    "\n",
    "\n",
    "---\n",
    "\n",
    "***In the below example, we have initialize the variable `number = 0` and we will increment it's value in each iteration. The loop will only continue to run only if the value is less than 7.***\n",
    "\n",
    "---"
   ]
  },
  {
   "cell_type": "markdown",
   "metadata": {},
   "source": [
    "# while Loops\n",
    "\n",
    "The <code>while</code> statement in Python is one of most general ways to perform iteration. A <code>while</code> statement will repeatedly execute a single statement or group of statements as long as the condition is true. The reason it is called a 'loop' is because the code statements are looped through over and over again until the condition is no longer met.\n",
    "\n",
    "The general format of a while loop is:\n",
    "\n",
    "    while test:\n",
    "        code statements\n",
    "    else:\n",
    "        final code statements\n",
    "\n",
    "Let’s look at a few simple <code>while</code> loops in action."
   ]
  },
  {
   "cell_type": "code",
   "execution_count": null,
   "metadata": {
    "colab": {},
    "colab_type": "code",
    "id": "TvUPcziBcx_O",
    "outputId": "d2ca4b70-1450-40dd-968e-a146b7f09139"
   },
   "outputs": [],
   "source": [
    "number = 0\n",
    "\n",
    "while (number <= 7):\n",
    "    print(number)\n",
    "    number = number + 1"
   ]
  },
  {
   "cell_type": "code",
   "execution_count": null,
   "metadata": {
    "colab": {},
    "colab_type": "code",
    "id": "_f5Xj9r8cx_a",
    "outputId": "476522ff-8bd3-488b-f36a-054972c30391"
   },
   "outputs": [],
   "source": [
    "number = 0\n",
    "\n",
    "while (number < 7):\n",
    "    print(number)\n",
    "    number = number + 2"
   ]
  },
  {
   "cell_type": "code",
   "execution_count": null,
   "metadata": {},
   "outputs": [],
   "source": [
    "num = 0\n",
    "num = num+2"
   ]
  },
  {
   "cell_type": "code",
   "execution_count": null,
   "metadata": {},
   "outputs": [],
   "source": [
    "print(num)"
   ]
  },
  {
   "cell_type": "code",
   "execution_count": null,
   "metadata": {},
   "outputs": [],
   "source": [
    "x = 0\n",
    "\n",
    "while x < 10: #0 1 2 3 4 5 6 7 8 9 \n",
    "    print('x is currently: ',x)\n",
    "    print(' x is still less than 10, adding 1 to x')\n",
    "    x+=1\n",
    "    \n",
    "else:\n",
    "    print('All Done!')"
   ]
  },
  {
   "cell_type": "markdown",
   "metadata": {
    "colab_type": "text",
    "id": "Q2LyZKtCcx_g"
   },
   "source": [
    "---\n",
    "---\n",
    "\n",
    "###  Jump Statements in Python (break, continue and pass)\n",
    "\n",
    "- Using for loops and while loops in Python allow you to automate and repeat tasks in an efficient manner.\n",
    "\n",
    "- But sometimes, an external factor may influence the way your program runs. When this occurs, you may want your program to exit a loop completely, skip part of a loop before continuing, or ignore that external factor. \n",
    "- You can do these actions with break and continue statements.\n",
    "\n",
    "#### 1. Break Statement\n",
    "- In Python, the break statement provides you with the opportunity to exit out of a loop when an external condition is triggered. \n",
    "\n",
    "- You’ll put the break statement within the block of code under your loop statement, usually after a conditional if statement.\n",
    "\n",
    "- The break statement causes a program to break out of a loop.\n",
    "\n",
    "\n",
    "Let’s look at an example that uses the break statement in a for loop:\n",
    "\n"
   ]
  },
  {
   "cell_type": "code",
   "execution_count": null,
   "metadata": {
    "colab": {
     "base_uri": "https://localhost:8080/",
     "height": 121
    },
    "colab_type": "code",
    "id": "buV0FHzXcx_j",
    "outputId": "75079f1f-b1e5-4070-e276-dbb875149563"
   },
   "outputs": [],
   "source": [
    "number = 0\n",
    "\n",
    "for number in range(10):\n",
    "    if number == 5:\n",
    "        break    # break here\n",
    "\n",
    "    print('Number is ' + str(number))\n",
    "\n",
    "print('Out of loop')"
   ]
  },
  {
   "cell_type": "code",
   "execution_count": null,
   "metadata": {},
   "outputs": [],
   "source": [
    "x = 0\n",
    "\n",
    "while x < 10:\n",
    "    print('x is currently: ',x)\n",
    "    print(' x is still less than 10, adding 1 to x')\n",
    "    x+=1\n",
    "    if x==3:\n",
    "        print('Breaking because x==3')\n",
    "        break\n",
    "   "
   ]
  },
  {
   "cell_type": "markdown",
   "metadata": {
    "colab_type": "text",
    "id": "YkUc4NPscx_r"
   },
   "source": [
    "---\n",
    "\n",
    "***Problem Statement:***\n",
    "\n",
    "- In the following example, user will enter the password which is set to be `data`.\n",
    "- If the password matches, It will print ***`Welcome to the Python Course!!`*** else print ***`Wrong Password!!` *** and user will re-enter the password.\n",
    "- In the fourth trial, it will print ***`One Trial left!!!`***.\n"
   ]
  },
  {
   "cell_type": "code",
   "execution_count": null,
   "metadata": {
    "colab": {},
    "colab_type": "code",
    "id": "0XdZuAtRcx_t",
    "outputId": "4aa10a34-6f32-4a99-dcfe-829207b6eff8"
   },
   "outputs": [],
   "source": [
    "password = \"data\"\n",
    "\n",
    "for trial in range(1,5):\n",
    "    \n",
    "    if trial == 4:\n",
    "        print('One trial left!!!')\n",
    "        \n",
    "    \n",
    "    enter_password = input(\"Enter Password: \")\n",
    "        \n",
    "    if enter_password == password:\n",
    "        print(\"Welcome to Python Course!!\")\n",
    "        break\n",
    "        \n",
    "    else:\n",
    "        print(\"Wrong Password!!\")"
   ]
  },
  {
   "cell_type": "markdown",
   "metadata": {
    "colab_type": "text",
    "id": "Jlp4QwHQcx_y"
   },
   "source": [
    "---\n",
    "\n",
    "#### 2. Continue Statement\n",
    "\n",
    "- The continue statement gives you the option to skip over the part of a loop where an external condition is triggered, but to go on to complete the rest of the loop. \n",
    "\n",
    "- That is, the current iteration of the loop will be disrupted, but the program will return to the top of the loop.\n",
    "\n",
    "- The continue statement will be within the block of code under the loop statement, usually after a conditional if statement.\n",
    "\n",
    "- The continue statement causes a program to skip certain factors that come up within a loop, but then continue through the rest of the loop.\n",
    "\n",
    "\n",
    "Using the same for loop program as in the Break Statement section above, we’ll use a continue statement rather than a break statement:\n"
   ]
  },
  {
   "cell_type": "code",
   "execution_count": null,
   "metadata": {
    "colab": {},
    "colab_type": "code",
    "id": "6MzPFwLJcx_z",
    "outputId": "6b9a862d-5111-457a-e2b2-10aa35a2a6e4"
   },
   "outputs": [],
   "source": [
    "number = 0\n",
    "\n",
    "for number in range(10):\n",
    "    if number == 5:\n",
    "        continue    # continue here\n",
    "\n",
    "    print('Number is ' + str(number))\n",
    "\n",
    "print('Out of loop')"
   ]
  },
  {
   "cell_type": "markdown",
   "metadata": {
    "colab_type": "text",
    "id": "sKZs9P3Lcx_4"
   },
   "source": [
    "---\n",
    "\n",
    "***Problem Statement:***\n",
    "\n",
    "- In the following example, user will enter the password which is OTP which is set to be `1232`.\n",
    "- If the OTP matches, It will ask user to provide details like ***`Enter Your Name: `*** and ***`Enter Your City\": ` *** and user will re-enter the OTP.\n",
    "- In the fourth trial, it will print ***`One Trial left!!!`***.\n"
   ]
  },
  {
   "cell_type": "code",
   "execution_count": null,
   "metadata": {
    "colab": {},
    "colab_type": "code",
    "id": "K-IKTkFfcx_5",
    "outputId": "d13c30f7-618e-4698-a9dd-5ec21fcade5e"
   },
   "outputs": [],
   "source": [
    "OTP = \"1232\"\n",
    "\n",
    "for trial in range(1, 5):\n",
    "    \n",
    "    if trial == 4:\n",
    "        print('One trial left!!!')\n",
    "    \n",
    "    enter_otp = input(\"Enter OTP: \")\n",
    "        \n",
    "    if enter_otp != OTP:\n",
    "        print(\"Try Again !!\")\n",
    "        continue\n",
    "        \n",
    "    else:\n",
    "        name = input(\"Enter Your Name: \")\n",
    "        city_name = input(\"Enter Your City: \")\n",
    "        break"
   ]
  },
  {
   "cell_type": "markdown",
   "metadata": {
    "colab_type": "text",
    "id": "kHt4iB8pcyAN"
   },
   "source": [
    "- The difference in using the continue statement rather than a break statement is that our code will continue despite the disruption when the variable number is evaluated as equivalent to 5. \n",
    "\n",
    "\n",
    "---\n",
    "\n",
    "####  Pass Statement\n",
    "\n",
    "- pass is a null operation — when it is executed, nothing happens.\n",
    "- It is useful as a placeholder when a statement is required syntactically, but no code needs to be executed.\n",
    "\n",
    "- The pass statement tells the program to disregard that condition and continue to run the program as usual.\n",
    "\n",
    "\n",
    "Using the same code block as above, let’s replace the break or continue statement with a pass statement:\n"
   ]
  },
  {
   "cell_type": "code",
   "execution_count": null,
   "metadata": {
    "colab": {},
    "colab_type": "code",
    "id": "RiZ1csWMcyAU",
    "outputId": "a64cb69b-b498-4130-b0cf-d0d79f945402"
   },
   "outputs": [],
   "source": [
    "number = 0\n",
    "\n",
    "for number in range(10):\n",
    "    if number == 5:\n",
    "        pass    # pass here\n",
    "\n",
    "    print('Number is ' + str(number))\n",
    "\n",
    "print('Out of loop')\n"
   ]
  },
  {
   "cell_type": "markdown",
   "metadata": {
    "colab_type": "text",
    "id": "qiFfNkAwcyAc"
   },
   "source": [
    "- The pass statement can create minimal classes, or act as a placeholder when working on new code and thinking on an algorithmic level before hammering out details.\n",
    "\n",
    "- The break, continue, and pass statements in Python will allow you to use for loops and while loops more effectively in your code.\n",
    "\n",
    "---"
   ]
  },
  {
   "cell_type": "markdown",
   "metadata": {},
   "source": [
    "### password problem from user you need to Assign password and then check password , if user enter worng password 3 times  then loop should close"
   ]
  }
 ],
 "metadata": {
  "colab": {
   "name": "Looping Constructs_final.ipynb",
   "provenance": []
  },
  "kernelspec": {
   "display_name": "Python 3",
   "language": "python",
   "name": "python3"
  },
  "language_info": {
   "codemirror_mode": {
    "name": "ipython",
    "version": 3
   },
   "file_extension": ".py",
   "mimetype": "text/x-python",
   "name": "python",
   "nbconvert_exporter": "python",
   "pygments_lexer": "ipython3",
   "version": "3.7.4"
  }
 },
 "nbformat": 4,
 "nbformat_minor": 1
}
