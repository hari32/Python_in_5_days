{
 "cells": [
  {
   "cell_type": "markdown",
   "metadata": {
    "colab_type": "text",
    "id": "7AYfd0R_H25M"
   },
   "source": [
    "---\n",
    "\n",
    "<center> <h1> Variables and Data Types </h1> </center> \n",
    "\n",
    "---\n",
    "\n",
    "\n"
   ]
  },
  {
   "cell_type": "markdown",
   "metadata": {
    "colab_type": "text",
    "id": "-L7z6LHMTT9j"
   },
   "source": [
    "###  How variables work in Python\n",
    "\n",
    "---"
   ]
  },
  {
   "cell_type": "markdown",
   "metadata": {},
   "source": [
    "### Basic Arithmetic"
   ]
  },
  {
   "cell_type": "code",
   "execution_count": null,
   "metadata": {},
   "outputs": [],
   "source": [
    "# Addition\n",
    "2+1"
   ]
  },
  {
   "cell_type": "code",
   "execution_count": null,
   "metadata": {},
   "outputs": [],
   "source": [
    "# Subtraction\n",
    "2-1"
   ]
  },
  {
   "cell_type": "code",
   "execution_count": null,
   "metadata": {},
   "outputs": [],
   "source": [
    "# Multiplication\n",
    "2*2"
   ]
  },
  {
   "cell_type": "code",
   "execution_count": null,
   "metadata": {},
   "outputs": [],
   "source": [
    "# Division\n",
    "3/2"
   ]
  },
  {
   "cell_type": "code",
   "execution_count": null,
   "metadata": {},
   "outputs": [],
   "source": [
    "# Floor Division\n",
    "7//4"
   ]
  },
  {
   "cell_type": "code",
   "execution_count": null,
   "metadata": {},
   "outputs": [],
   "source": [
    "# Powers\n",
    "2**3"
   ]
  },
  {
   "cell_type": "code",
   "execution_count": null,
   "metadata": {},
   "outputs": [],
   "source": [
    "# Order of Operations followed in Python\n",
    "2 + 10 * 10 + 3"
   ]
  },
  {
   "cell_type": "code",
   "execution_count": null,
   "metadata": {},
   "outputs": [],
   "source": [
    "# Can use parentheses to specify orders\n",
    "(2+10) * (10+3)"
   ]
  },
  {
   "cell_type": "markdown",
   "metadata": {},
   "source": [
    "---\n",
    "\n",
    "###   Variable Assignment\n",
    "\n",
    "\n",
    "- When you create a variable you keep some space in memory. These memory locations are then used to store values. \n",
    "\n",
    "\n",
    "\n",
    "---"
   ]
  },
  {
   "cell_type": "code",
   "execution_count": null,
   "metadata": {},
   "outputs": [],
   "source": [
    "z = 5"
   ]
  },
  {
   "cell_type": "code",
   "execution_count": null,
   "metadata": {},
   "outputs": [],
   "source": [
    "z"
   ]
  },
  {
   "cell_type": "code",
   "execution_count": null,
   "metadata": {
    "colab": {},
    "colab_type": "code",
    "id": "YJNEW88WTT9l"
   },
   "outputs": [],
   "source": [
    "# Look at the following statements\n",
    "a = 7\n",
    "b = a\n",
    "a = 3"
   ]
  },
  {
   "cell_type": "markdown",
   "metadata": {
    "colab_type": "text",
    "id": "3gDZO4S2H261"
   },
   "source": [
    "\n",
    "\n",
    "***What will be the value of a?***\n",
    "\n",
    "\n",
    "---"
   ]
  },
  {
   "cell_type": "code",
   "execution_count": null,
   "metadata": {
    "colab": {},
    "colab_type": "code",
    "id": "ZCXj-19kTT9s",
    "outputId": "1890f99f-09ba-4ac1-f3ee-445491953ae1"
   },
   "outputs": [],
   "source": [
    "print(a)"
   ]
  },
  {
   "cell_type": "code",
   "execution_count": null,
   "metadata": {
    "colab": {},
    "colab_type": "code",
    "id": "YwIfEojETT9x",
    "outputId": "084ce68f-babe-40ad-b6b1-4bdec9f1b6e6"
   },
   "outputs": [],
   "source": [
    "print(b)"
   ]
  },
  {
   "cell_type": "markdown",
   "metadata": {
    "colab_type": "text",
    "id": "WJMr6Ij1TT95"
   },
   "source": [
    "###  Variable naming rules\n",
    "\n",
    "\n",
    "---\n",
    "***Identifiers in Python***\n",
    "\n",
    "* Like Variables, we have to define functions, classes, etc in python. Naming them helps to differentiate one entity from another.\n",
    "* All these names given to these entities are known as `Identifiers`. \n",
    "* Python have some rules to define the Identifiers.  \n",
    "\n",
    "\n",
    "***Rules of Writing Identifiers***\n",
    "\n",
    "* Python is case sensitive language.\n",
    "* Identifiers can be a combination of letters in lowercase (a to z) or uppercase (A to Z) or digits (0 to 9) or an underscore _. Names like myVariable, var_1 and print_this, all are valid example.\n",
    "* An identifier cannot start with a digit.\n",
    "* `1variable` is invalid, but `variable1` is perfectly fine.\n",
    "* We cannot use special symbols like !, @, #, $, % etc. in our identifier. `_` is allowed.\n",
    "\n",
    "* ***`Keywords` cannot be used as identifiers. `Keywords` are the reserved words in Python.***\n",
    "\n",
    "---\n",
    "\n",
    "***Keywords in Python***\n",
    "\n",
    "---\n",
    "\n",
    "* False\t\n",
    "* class\t\n",
    "* finally\t\n",
    "* is\t\n",
    "* return\n",
    "* None\t\n",
    "* continue\t\n",
    "* for\t\n",
    "* lambda\t\n",
    "* try\n",
    "* True, etc\n",
    "\n",
    "\n",
    "---"
   ]
  },
  {
   "cell_type": "markdown",
   "metadata": {
    "colab_type": "text",
    "id": "sLHTDA74H27Y"
   },
   "source": [
    "---\n",
    "\n",
    "***Python is case sensitive so `a` and `A` are different***\n",
    "\n",
    "---"
   ]
  },
  {
   "cell_type": "code",
   "execution_count": null,
   "metadata": {
    "colab": {},
    "colab_type": "code",
    "id": "VztaPO9_TT9T"
   },
   "outputs": [],
   "source": [
    "A = 4"
   ]
  },
  {
   "cell_type": "code",
   "execution_count": null,
   "metadata": {
    "colab": {},
    "colab_type": "code",
    "id": "2vPxm7ZFTT9b",
    "outputId": "3481c07a-33ed-423d-cdc7-254bfe2b09d0"
   },
   "outputs": [],
   "source": [
    "print(a)\n",
    "print(A)"
   ]
  },
  {
   "cell_type": "markdown",
   "metadata": {
    "colab_type": "text",
    "id": "3lKle9bNH27x"
   },
   "source": [
    "***Rules to define variable names***\n",
    "\n",
    "---"
   ]
  },
  {
   "cell_type": "code",
   "execution_count": null,
   "metadata": {
    "colab": {},
    "colab_type": "code",
    "id": "3pUTYZ6eTT98"
   },
   "outputs": [],
   "source": [
    "# allowed\n",
    "a = 5"
   ]
  },
  {
   "cell_type": "code",
   "execution_count": null,
   "metadata": {
    "colab": {},
    "colab_type": "code",
    "id": "iGqhYLZcTT-D"
   },
   "outputs": [],
   "source": [
    "# only \"_\" underscore is allowed in allowed in special characters in the variable name\n",
    "_a = 5"
   ]
  },
  {
   "cell_type": "code",
   "execution_count": null,
   "metadata": {
    "colab": {},
    "colab_type": "code",
    "id": "tzzvqrGzTT-K",
    "outputId": "d69ff379-1e30-41b7-86dc-32ec22987019"
   },
   "outputs": [],
   "source": [
    "# other special characters are not allowed\n",
    "@a=5"
   ]
  },
  {
   "cell_type": "code",
   "execution_count": null,
   "metadata": {
    "colab": {},
    "colab_type": "code",
    "id": "Lq6vHXutTT-S",
    "outputId": "67fd9e5a-495c-4556-ce2b-10414f29325d"
   },
   "outputs": [],
   "source": [
    "# we can not start with variables name with a number\n",
    "1a = 5"
   ]
  },
  {
   "cell_type": "markdown",
   "metadata": {
    "colab_type": "text",
    "id": "gZZ71oaoTT-b"
   },
   "source": [
    "---\n",
    "\n",
    "\n",
    "###   Data types\n",
    "\n",
    "* int\n",
    "* string\n",
    "* float\n",
    "* bool\n",
    "\n",
    "---"
   ]
  },
  {
   "cell_type": "code",
   "execution_count": null,
   "metadata": {
    "colab": {},
    "colab_type": "code",
    "id": "TAp-6G0iTT-d"
   },
   "outputs": [],
   "source": [
    "# INTEGER TYPE\n",
    "a = 5"
   ]
  },
  {
   "cell_type": "code",
   "execution_count": null,
   "metadata": {
    "colab": {},
    "colab_type": "code",
    "id": "9BpIBVm7TT-i",
    "outputId": "62205899-29c5-4808-bff7-d025bde912aa"
   },
   "outputs": [],
   "source": [
    "type(a)"
   ]
  },
  {
   "cell_type": "code",
   "execution_count": null,
   "metadata": {
    "colab": {},
    "colab_type": "code",
    "id": "_U_9IeNcTT-o"
   },
   "outputs": [],
   "source": [
    "# STRING TYPE\n",
    "b = \"lakshay\""
   ]
  },
  {
   "cell_type": "code",
   "execution_count": null,
   "metadata": {
    "colab": {},
    "colab_type": "code",
    "id": "maIKGc1YTT-t",
    "outputId": "0ecde854-2abd-424b-dbd3-a65216cdf675"
   },
   "outputs": [],
   "source": [
    "type(b)"
   ]
  },
  {
   "cell_type": "code",
   "execution_count": null,
   "metadata": {
    "colab": {},
    "colab_type": "code",
    "id": "U7EBWvhYTT-z"
   },
   "outputs": [],
   "source": [
    "# FLOAT TYPE\n",
    "c = 5.55"
   ]
  },
  {
   "cell_type": "code",
   "execution_count": null,
   "metadata": {
    "colab": {},
    "colab_type": "code",
    "id": "SuYm1q1bH29P",
    "outputId": "df8166e8-a43d-4711-dd21-978f9e4de99b"
   },
   "outputs": [],
   "source": [
    "type(c)"
   ]
  },
  {
   "cell_type": "code",
   "execution_count": null,
   "metadata": {
    "colab": {},
    "colab_type": "code",
    "id": "aQIRv3w0H29Z"
   },
   "outputs": [],
   "source": [
    "# BOOLEAN TYPE\n",
    "d = True"
   ]
  },
  {
   "cell_type": "code",
   "execution_count": null,
   "metadata": {
    "colab": {},
    "colab_type": "code",
    "id": "ccbkAixHH29h",
    "outputId": "cab33de3-e709-4fb0-edb2-d40fb7a0892b"
   },
   "outputs": [],
   "source": [
    "type(d)"
   ]
  },
  {
   "cell_type": "markdown",
   "metadata": {
    "colab_type": "text",
    "id": "yHSCgf4TH29p"
   },
   "source": [
    "---\n",
    "\n",
    "### Type Conversion\n",
    "\n",
    "\n",
    "***Python defines type conversion functions to directly convert one data type to another.***\n",
    "\n",
    "\n",
    "\n",
    "---"
   ]
  },
  {
   "cell_type": "markdown",
   "metadata": {
    "colab_type": "text",
    "id": "UzRTGkQjH29t"
   },
   "source": [
    "***convert float to integer***\n",
    "\n",
    "---"
   ]
  },
  {
   "cell_type": "code",
   "execution_count": null,
   "metadata": {
    "colab": {},
    "colab_type": "code",
    "id": "9ArOJo2EH29v",
    "outputId": "2c1fd721-68f4-4c96-8498-29798869a9b3"
   },
   "outputs": [],
   "source": [
    "# age is generally in integer numbers\n",
    "my_age = 26.33333\n",
    "my_age = int(my_age)\n",
    "my_age"
   ]
  },
  {
   "cell_type": "markdown",
   "metadata": {
    "colab_type": "text",
    "id": "XmZXXMwUH293"
   },
   "source": [
    "***convert string to integer***\n",
    "\n",
    "---"
   ]
  },
  {
   "cell_type": "code",
   "execution_count": null,
   "metadata": {
    "colab": {},
    "colab_type": "code",
    "id": "yOSW9UHlH295",
    "outputId": "6dfc0295-923d-4feb-edb0-aa45994252f9"
   },
   "outputs": [],
   "source": [
    "# if we try to add string and integer number, it will give an error\n",
    "my_int = '2' + 6"
   ]
  },
  {
   "cell_type": "code",
   "execution_count": null,
   "metadata": {
    "colab": {},
    "colab_type": "code",
    "id": "nW_GnkkXH29_",
    "outputId": "06a82b14-b3a1-41bf-a9d3-aef68a6379de"
   },
   "outputs": [],
   "source": [
    "# type conversion: string to int\n",
    "my_int = int('2') + 6\n",
    "my_int"
   ]
  },
  {
   "cell_type": "markdown",
   "metadata": {
    "colab": {},
    "colab_type": "code",
    "id": "BmS5xrIcH2-G"
   },
   "source": [
    "## Simple Exercise\n",
    "This shows how variables make calculations more readable and easier to follow."
   ]
  },
  {
   "cell_type": "code",
   "execution_count": null,
   "metadata": {},
   "outputs": [],
   "source": [
    "my_income = 100\n",
    "tax_rate = 0.1\n",
    "my_taxes = my_income * tax_rate"
   ]
  },
  {
   "cell_type": "code",
   "execution_count": null,
   "metadata": {},
   "outputs": [],
   "source": [
    "my_taxes"
   ]
  },
  {
   "cell_type": "markdown",
   "metadata": {},
   "source": [
    "Great! You should now understand the basics of variable assignment and reassignment in Python."
   ]
  }
 ],
 "metadata": {
  "colab": {
   "name": "Variables and Data Types.ipynb",
   "provenance": []
  },
  "kernelspec": {
   "display_name": "Python 3",
   "language": "python",
   "name": "python3"
  },
  "language_info": {
   "codemirror_mode": {
    "name": "ipython",
    "version": 3
   },
   "file_extension": ".py",
   "mimetype": "text/x-python",
   "name": "python",
   "nbconvert_exporter": "python",
   "pygments_lexer": "ipython3",
   "version": "3.7.4"
  }
 },
 "nbformat": 4,
 "nbformat_minor": 1
}
